{
 "cells": [
  {
   "cell_type": "markdown",
   "metadata": {},
   "source": [
    "### Init Parameters"
   ]
  },
  {
   "cell_type": "code",
   "execution_count": 1,
   "metadata": {},
   "outputs": [],
   "source": [
    "%load_ext autoreload\n",
    "%autoreload 2\n",
    "%matplotlib inline\n",
    "\n",
    "import os\n",
    "from pathlib import Path\n",
    "import matplotlib.pyplot as plt\n",
    "plt.rcParams['figure.figsize'] = [10, 5]\n",
    "\n",
    "root_folder = Path(os.getcwd())\n",
    "dataset_dir = root_folder / \"data/har-up-spiking-dataset-240\"\n",
    "\n",
    "batch_size = 1\n",
    "nb_steps = 1500\n",
    "max_length = 60.0\n",
    "tau_mem = 100\n",
    "tau_syn = 50"
   ]
  },
  {
   "cell_type": "markdown",
   "metadata": {},
   "source": [
    "### Init Dataset"
   ]
  },
  {
   "cell_type": "code",
   "execution_count": null,
   "metadata": {},
   "outputs": [],
   "source": [
    "from utils.SpikingDataset import SpikingDataset\n",
    "\n",
    "dataset = SpikingDataset(\n",
    "    root_dir=dataset_dir,\n",
    "    time_duration=max_length,\n",
    "    camera1_only=False,\n",
    "    multiclass=False\n",
    ")\n",
    "train_dataset, dev_dataset, test_dataset = dataset.split_by_trials()\n",
    "\n",
    "events, target = test_dataset[0]\n",
    "print(events.shape)"
   ]
  },
  {
   "cell_type": "markdown",
   "metadata": {},
   "source": [
    "### Init Dataloaders"
   ]
  },
  {
   "cell_type": "code",
   "execution_count": null,
   "metadata": {},
   "outputs": [],
   "source": [
    "from utils.SpikingDataLoader import SpikingDataLoader\n",
    "\n",
    "train_loader = SpikingDataLoader(dataset=train_dataset,nb_steps=nb_steps,batch_size=batch_size,shuffle=False)\n",
    "dev_loader = SpikingDataLoader(dataset=dev_dataset, nb_steps=nb_steps, batch_size=batch_size, shuffle=False)\n",
    "test_loader = SpikingDataLoader(dataset=test_dataset, nb_steps=nb_steps, batch_size=batch_size, shuffle=False)"
   ]
  },
  {
   "cell_type": "markdown",
   "metadata": {},
   "source": [
    "## Binary Classification Models"
   ]
  },
  {
   "cell_type": "markdown",
   "metadata": {},
   "source": [
    "### Init SpikingNN Model"
   ]
  },
  {
   "cell_type": "code",
   "execution_count": 4,
   "metadata": {},
   "outputs": [],
   "source": [
    "from models.SpikingNN import SpikingNN\n",
    "\n",
    "model = SpikingNN(\n",
    "    layer_sizes=[240 * 180, 5, 2],\n",
    "    nb_steps=nb_steps,\n",
    "    time_step=max_length / nb_steps,\n",
    "    tau_mem=tau_mem * 1e-3,\n",
    "    tau_syn=tau_syn * 1e-3,\n",
    ")"
   ]
  },
  {
   "cell_type": "markdown",
   "metadata": {},
   "source": [
    "### Init Leaky Model"
   ]
  },
  {
   "cell_type": "code",
   "execution_count": null,
   "metadata": {},
   "outputs": [],
   "source": [
    "from models.SNNTorchLeaky import SNNTorchLeaky\n",
    "\n",
    "model = SNNTorchLeaky(\n",
    "    num_inputs=dataset.nb_pixels,\n",
    "    num_hidden=250,\n",
    "    num_outputs=2,\n",
    "    nb_steps=nb_steps,\n",
    "    time_step=max_length / nb_steps,\n",
    "    tau_mem=tau_mem * 1e-3,\n",
    ")"
   ]
  },
  {
   "cell_type": "markdown",
   "metadata": {},
   "source": [
    "### Init Synaptic Model"
   ]
  },
  {
   "cell_type": "code",
   "execution_count": null,
   "metadata": {},
   "outputs": [],
   "source": [
    "from models.SNNTorchSyn import SNNTorchSyn\n",
    "\n",
    "model = SNNTorchSyn(\n",
    "    num_inputs=dataset.nb_pixels,\n",
    "    num_hidden=250,\n",
    "    num_outputs=2,\n",
    "    nb_steps=nb_steps,\n",
    "    time_step=max_length / nb_steps,\n",
    "    tau_mem=tau_mem * 1e-3,\n",
    "    tau_syn=tau_syn * 1e-3,\n",
    ")"
   ]
  },
  {
   "cell_type": "markdown",
   "metadata": {},
   "source": [
    "### Init Convolutional Model"
   ]
  },
  {
   "cell_type": "code",
   "execution_count": null,
   "metadata": {},
   "outputs": [],
   "source": [
    "from models.SNNTorchConv import SNNTorchConv\n",
    "\n",
    "model = SNNTorchConv(\n",
    "    num_inputs=dataset.nb_pixels,\n",
    "    num_hidden=250,\n",
    "    num_outputs=2,\n",
    "    nb_steps=nb_steps,\n",
    "    time_step=max_length / nb_steps,\n",
    "    tau_mem=tau_mem * 1e-3,\n",
    ")\n"
   ]
  },
  {
   "cell_type": "markdown",
   "metadata": {},
   "source": [
    "### Train model"
   ]
  },
  {
   "cell_type": "code",
   "execution_count": null,
   "metadata": {},
   "outputs": [],
   "source": [
    "from utils.BinaryTrainer import BinaryTrainer\n",
    "\n",
    "trainer = BinaryTrainer(model=model)\n",
    "trainer.train(\n",
    "    train_loader,\n",
    "    evaluate_dataloader=dev_loader,\n",
    "    nb_epochs=5,\n",
    "    stop_early=False,\n",
    "    dataset_bias_ratio=5.0,\n",
    ")"
   ]
  },
  {
   "cell_type": "markdown",
   "metadata": {},
   "source": [
    "## Multiclass Classification Models"
   ]
  },
  {
   "cell_type": "markdown",
   "metadata": {},
   "source": [
    "### Init SpikingNN Model"
   ]
  },
  {
   "cell_type": "code",
   "execution_count": 7,
   "metadata": {},
   "outputs": [],
   "source": [
    "from models.SpikingNN import SpikingNN\n",
    "\n",
    "model = SpikingNN(\n",
    "    layer_sizes=[240 * 180, 5, 12],\n",
    "    nb_steps=nb_steps,\n",
    "    time_step=max_length / nb_steps,\n",
    "    tau_mem=tau_mem * 1e-3,\n",
    "    tau_syn=tau_syn * 1e-3,\n",
    ")"
   ]
  },
  {
   "cell_type": "markdown",
   "metadata": {},
   "source": [
    "### Train model"
   ]
  },
  {
   "cell_type": "code",
   "execution_count": null,
   "metadata": {},
   "outputs": [],
   "source": [
    "from utils.MultiTrainer import MultiTrainer\n",
    "\n",
    "trainer = MultiTrainer(model=model)\n",
    "trainer.train(\n",
    "    train_loader,\n",
    "    evaluate_dataloader=dev_loader,\n",
    "    nb_epochs=5,\n",
    "    stop_early=False,\n",
    "    dataset_bias_ratio=5.0,\n",
    ")"
   ]
  },
  {
   "cell_type": "markdown",
   "metadata": {},
   "source": [
    "## Evaluation"
   ]
  },
  {
   "cell_type": "markdown",
   "metadata": {},
   "source": [
    "### Save model weights"
   ]
  },
  {
   "cell_type": "code",
   "execution_count": 7,
   "metadata": {},
   "outputs": [],
   "source": [
    "model_name = \"B1_H5_LR25_W5_Atan_spk_local\"\n",
    "model_save_file = root_folder / \"models/saved\"\n",
    "\n",
    "model.save(model_save_file / f\"{model_name}.pth\")"
   ]
  },
  {
   "cell_type": "markdown",
   "metadata": {},
   "source": [
    "### Load model weights"
   ]
  },
  {
   "cell_type": "code",
   "execution_count": 5,
   "metadata": {},
   "outputs": [],
   "source": [
    "import torch\n",
    "\n",
    "model_name = \"B4_H5_LR25_W5_Atan\"\n",
    "model_save_file = root_folder / \"models/saved\"\n",
    "path = model_save_file / f\"{model_name}.pth\"\n",
    "\n",
    "model = torch.load(path, weights_only=False)"
   ]
  },
  {
   "cell_type": "markdown",
   "metadata": {},
   "source": [
    "### Test model"
   ]
  },
  {
   "cell_type": "code",
   "execution_count": null,
   "metadata": {},
   "outputs": [],
   "source": [
    "from utils.BinaryTrainer import BinaryTrainer\n",
    "\n",
    "trainer = BinaryTrainer(model=model)\n",
    "trainer.test(test_loader)"
   ]
  },
  {
   "cell_type": "markdown",
   "metadata": {},
   "source": [
    "### Evaluate model"
   ]
  },
  {
   "cell_type": "code",
   "execution_count": 21,
   "metadata": {},
   "outputs": [],
   "source": [
    "import torch\n",
    "\n",
    "with torch.inference_mode():\n",
    "    for i, (x_local, y_local) in enumerate(test_loader):\n",
    "\n",
    "        x_local = x_local.to(model.device, model.dtype)\n",
    "        y_local = y_local.to(model.device, model.dtype)\n",
    "\n",
    "        mem_rec, spk_rec = model.forward(x_local.to_dense())\n",
    "        \n",
    "        if i == 2:\n",
    "            break\n",
    "\n",
    "x_local = x_local.to_dense().cpu().detach().numpy()\n",
    "y_local = y_local.cpu().detach().numpy()\n",
    "\n",
    "mem_rec = mem_rec.cpu().detach().numpy()\n",
    "spk_rec = spk_rec.cpu().detach().numpy()"
   ]
  },
  {
   "cell_type": "markdown",
   "metadata": {},
   "source": [
    "### Visualize results"
   ]
  },
  {
   "cell_type": "code",
   "execution_count": null,
   "metadata": {},
   "outputs": [],
   "source": [
    "from utils.snn_visualizers import visualize_events, visualize_input_grid\n",
    "\n",
    "# print(x_local.shape)\n",
    "# print(y_local.shape)\n",
    "\n",
    "visualize_events(x_local[0], y_local[0], 60)"
   ]
  },
  {
   "cell_type": "code",
   "execution_count": null,
   "metadata": {},
   "outputs": [],
   "source": [
    "from utils.snn_visualizers import visualize_snn_output\n",
    "\n",
    "# print(mem_rec.shape)\n",
    "# print(spk_rec.shape)\n",
    "\n",
    "visualize_snn_output(mem_rec[0], spk_rec[0], time_range=[0, 300])"
   ]
  }
 ],
 "metadata": {
  "kernelspec": {
   "display_name": "snn",
   "language": "python",
   "name": "python3"
  },
  "language_info": {
   "codemirror_mode": {
    "name": "ipython",
    "version": 3
   },
   "file_extension": ".py",
   "mimetype": "text/x-python",
   "name": "python",
   "nbconvert_exporter": "python",
   "pygments_lexer": "ipython3",
   "version": "3.11.7"
  }
 },
 "nbformat": 4,
 "nbformat_minor": 2
}
