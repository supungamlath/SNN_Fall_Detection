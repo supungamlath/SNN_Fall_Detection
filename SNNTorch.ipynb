{
 "cells": [
  {
   "cell_type": "markdown",
   "metadata": {},
   "source": [
    "### Init Parameters"
   ]
  },
  {
   "cell_type": "code",
   "execution_count": 1,
   "metadata": {},
   "outputs": [],
   "source": [
    "%matplotlib inline\n",
    "\n",
    "import os\n",
    "from pathlib import Path\n",
    "import matplotlib.pyplot as plt\n",
    "plt.rcParams['figure.figsize'] = [10, 5]\n",
    "\n",
    "root_folder = Path(os.getcwd())\n",
    "dataset_dir = root_folder / \"data/har-up-spiking-dataset-240\"\n",
    "\n",
    "batch_size = 4\n",
    "nb_steps = 3000\n",
    "max_length = 60.0\n",
    "tau_mem = 100\n",
    "tau_syn = 50"
   ]
  },
  {
   "cell_type": "markdown",
   "metadata": {},
   "source": [
    "### Init Dataset"
   ]
  },
  {
   "cell_type": "code",
   "execution_count": 2,
   "metadata": {},
   "outputs": [
    {
     "name": "stdout",
     "output_type": "stream",
     "text": [
      "(128866,)\n"
     ]
    },
    {
     "data": {
      "image/png": "[encoded data removed]",
      "text/plain": [
       "<Figure size 1000x500 with 8 Axes>"
      ]
     },
     "metadata": {},
     "output_type": "display_data"
    }
   ],
   "source": [
    "import tonic\n",
    "from utils.SpikingDataset import SpikingDataset\n",
    "\n",
    "dataset = SpikingDataset(\n",
    "    root_dir=dataset_dir,\n",
    "    time_duration=max_length,\n",
    "    camera1_only=False,\n",
    ")\n",
    "train_dataset, dev_dataset, test_dataset = dataset.split_by_trials()\n",
    "\n",
    "events, target = test_dataset[0]\n",
    "print(events.shape)\n",
    "tonic.utils.plot_event_grid(events, axis_array=[1,8])\n"
   ]
  },
  {
   "cell_type": "markdown",
   "metadata": {},
   "source": [
    "### Init Dataloaders"
   ]
  },
  {
   "cell_type": "code",
   "execution_count": 3,
   "metadata": {},
   "outputs": [
    {
     "name": "stdout",
     "output_type": "stream",
     "text": [
      "Initializing DataLoader of size 10\n",
      "Initializing DataLoader of size 2\n",
      "Initializing DataLoader of size 4\n"
     ]
    }
   ],
   "source": [
    "from utils.SpikingDataLoader import SpikingDataLoader\n",
    "\n",
    "train_loader = SpikingDataLoader(dataset=train_dataset,nb_steps=nb_steps,batch_size=batch_size,shuffle=False)\n",
    "dev_loader = SpikingDataLoader(dataset=dev_dataset, nb_steps=nb_steps, batch_size=batch_size, shuffle=False)\n",
    "test_loader = SpikingDataLoader(dataset=test_dataset, nb_steps=nb_steps, batch_size=batch_size, shuffle=False)"
   ]
  },
  {
   "cell_type": "code",
   "execution_count": 4,
   "metadata": {},
   "outputs": [
    {
     "name": "stdout",
     "output_type": "stream",
     "text": [
      "torch.Size([4, 3000, 240, 180])\n"
     ]
    }
   ],
   "source": [
    "for x_local, y_local in test_loader:\n",
    "    print(x_local.shape)"
   ]
  },
  {
   "cell_type": "markdown",
   "metadata": {},
   "source": [
    "### Init Old Model"
   ]
  },
  {
   "cell_type": "code",
   "execution_count": 5,
   "metadata": {},
   "outputs": [],
   "source": [
    "from models.SpikingNN import SpikingNN\n",
    "\n",
    "model = SpikingNN(\n",
    "    layer_sizes=[240 * 180, 100, 50, 2],\n",
    "    nb_steps=nb_steps,\n",
    "    time_step=max_length / nb_steps,\n",
    "    tau_mem=tau_mem * 1e-3,\n",
    "    tau_syn=tau_syn * 1e-3,\n",
    ")"
   ]
  },
  {
   "cell_type": "markdown",
   "metadata": {},
   "source": [
    "### Init Leaky Model"
   ]
  },
  {
   "cell_type": "code",
   "execution_count": 5,
   "metadata": {},
   "outputs": [
    {
     "name": "stdout",
     "output_type": "stream",
     "text": [
      "LIF Parameter beta: 0.8187307530779818\n"
     ]
    }
   ],
   "source": [
    "from models.SNNTorchLeaky import SNNTorchLeaky\n",
    "\n",
    "model = SNNTorchLeaky(\n",
    "    num_inputs=dataset.nb_pixels,\n",
    "    num_hidden=250,\n",
    "    num_outputs=2,\n",
    "    nb_steps=nb_steps,\n",
    "    time_step=max_length / nb_steps,\n",
    "    tau_mem=tau_mem * 1e-3,\n",
    ")"
   ]
  },
  {
   "cell_type": "markdown",
   "metadata": {},
   "source": [
    "### Init Synaptic Model"
   ]
  },
  {
   "cell_type": "code",
   "execution_count": null,
   "metadata": {},
   "outputs": [],
   "source": [
    "from models.SNNTorchSyn import SNNTorchSyn\n",
    "\n",
    "model = SNNTorchSyn(\n",
    "    num_inputs=dataset.nb_pixels,\n",
    "    num_hidden=250,\n",
    "    num_outputs=2,\n",
    "    nb_steps=nb_steps,\n",
    "    time_step=max_length / nb_steps,\n",
    "    tau_mem=tau_mem * 1e-3,\n",
    "    tau_syn=tau_syn * 1e-3,\n",
    ")"
   ]
  },
  {
   "cell_type": "markdown",
   "metadata": {},
   "source": [
    "### Init Convolutional Model"
   ]
  },
  {
   "cell_type": "code",
   "execution_count": 6,
   "metadata": {},
   "outputs": [
    {
     "name": "stdout",
     "output_type": "stream",
     "text": [
      "LIF Parameter beta: 0.6703200460356393\n"
     ]
    }
   ],
   "source": [
    "from models.SNNTorchConv import SNNTorchConv\n",
    "\n",
    "model = SNNTorchConv(\n",
    "    num_inputs=dataset.nb_pixels,\n",
    "    num_hidden=250,\n",
    "    num_outputs=2,\n",
    "    nb_steps=nb_steps,\n",
    "    time_step=max_length / nb_steps,\n",
    "    tau_mem=tau_mem * 1e-3,\n",
    ")\n"
   ]
  },
  {
   "cell_type": "markdown",
   "metadata": {},
   "source": [
    "### Train model"
   ]
  },
  {
   "cell_type": "code",
   "execution_count": null,
   "metadata": {},
   "outputs": [],
   "source": [
    "from utils.Trainer import Trainer\n",
    "\n",
    "trainer = Trainer(model=model)\n",
    "trainer.train(\n",
    "    train_loader,\n",
    "    evaluate_dataloader=dev_loader,\n",
    "    nb_epochs=20,\n",
    "    stop_early=False,\n",
    "    dataset_bias_ratio=10.0,\n",
    ")"
   ]
  },
  {
   "cell_type": "markdown",
   "metadata": {},
   "source": [
    "### Save model weights"
   ]
  },
  {
   "cell_type": "code",
   "execution_count": 4,
   "metadata": {},
   "outputs": [],
   "source": [
    "model_name = \"model\"\n",
    "model_save_file = root_folder / \"models/saved\"\n",
    "\n",
    "# model.save(model_save_file / model_name)"
   ]
  },
  {
   "cell_type": "markdown",
   "metadata": {},
   "source": [
    "### Load model weights"
   ]
  },
  {
   "cell_type": "code",
   "execution_count": 6,
   "metadata": {},
   "outputs": [
    {
     "data": {
      "text/plain": [
       "SpikingNN(\n",
       "  (hidden_layers): ModuleList(\n",
       "    (0-1): 2 x SpikingHiddenLayer()\n",
       "  )\n",
       "  (readout_layer): SpikingReadoutLayer()\n",
       ")"
      ]
     },
     "execution_count": 6,
     "metadata": {},
     "output_type": "execute_result"
    }
   ],
   "source": [
    "model_name = \"B4_H100,50_LR25_W5_Best\"\n",
    "model_save_file = root_folder / \"models/saved\"\n",
    "\n",
    "model.load(model_save_file / f\"{model_name}.pth\")"
   ]
  },
  {
   "cell_type": "markdown",
   "metadata": {},
   "source": [
    "### Test model"
   ]
  },
  {
   "cell_type": "code",
   "execution_count": 7,
   "metadata": {},
   "outputs": [
    {
     "name": "stdout",
     "output_type": "stream",
     "text": [
      "Test Set Metrics : {'loss': 0.0, 'accuracy': 0.9583333333333334, 'precision': 0.0, 'recall': 0.0, 'f1_score': 0.0}\n"
     ]
    },
    {
     "data": {
      "text/plain": [
       "{'loss': 0.0,\n",
       " 'accuracy': 0.9583333333333334,\n",
       " 'precision': 0.0,\n",
       " 'recall': 0.0,\n",
       " 'f1_score': 0.0}"
      ]
     },
     "execution_count": 7,
     "metadata": {},
     "output_type": "execute_result"
    }
   ],
   "source": [
    "from utils.Trainer import Trainer\n",
    "\n",
    "trainer = Trainer(model=model)\n",
    "trainer.test(test_loader)"
   ]
  },
  {
   "cell_type": "markdown",
   "metadata": {},
   "source": [
    "### Evaluate model"
   ]
  },
  {
   "cell_type": "code",
   "execution_count": 7,
   "metadata": {},
   "outputs": [],
   "source": [
    "import torch\n",
    "\n",
    "with torch.inference_mode():\n",
    "    for x_local, y_local in test_loader:\n",
    "\n",
    "        x_local = x_local.to(model.device, model.dtype)\n",
    "        y_local = y_local.to(model.device, model.dtype)\n",
    "\n",
    "        mem_rec, spk_rec = model.forward(x_local.to_dense())\n",
    "        break\n",
    "\n",
    "mem_rec = mem_rec.cpu().detach().numpy()\n",
    "spk_rec = spk_rec.cpu().detach()"
   ]
  },
  {
   "cell_type": "markdown",
   "metadata": {},
   "source": [
    "### Visualize results"
   ]
  },
  {
   "cell_type": "code",
   "execution_count": 9,
   "metadata": {},
   "outputs": [
    {
     "name": "stdout",
     "output_type": "stream",
     "text": [
      "(4, 3000, 2)\n",
      "torch.Size([4, 1, 3000, 5])\n"
     ]
    },
    {
     "data": {
      "image/png": "[encoded data removed]",
      "text/plain": [
       "<Figure size 1000x500 with 1 Axes>"
      ]
     },
     "metadata": {},
     "output_type": "display_data"
    }
   ],
   "source": [
    "import numpy as np\n",
    "from utils.snntorch_visualizers import plot_mem_spk\n",
    "import matplotlib.pyplot as plt\n",
    "\n",
    "print(mem_rec.shape)\n",
    "print(spk_rec.shape)\n",
    "\n",
    "arr = mem_rec\n",
    "arr_ = np.squeeze(arr[0]) # you can give axis attribute if you wanna squeeze in specific dimension\n",
    "plt.imshow(arr_)\n",
    "plt.show()\n",
    "\n",
    "# plot_mem_spk(mem_rec[0, :, 0], spk_rec[0, :, 0], thr_line=1, ylim_max=10.0, title=\"Leaky Neuron Model\")"
   ]
  },
  {
   "cell_type": "code",
   "execution_count": null,
   "metadata": {},
   "outputs": [],
   "source": [
    "plot_mem_spk(mem_rec[:, 0, 1], spk_rec[:, 0, 1], thr_line=1, ylim_max=2.0, title=\"Leaky Neuron Model\")"
   ]
  }
 ],
 "metadata": {
  "kernelspec": {
   "display_name": "snn",
   "language": "python",
   "name": "python3"
  },
  "language_info": {
   "codemirror_mode": {
    "name": "ipython",
    "version": 3
   },
   "file_extension": ".py",
   "mimetype": "text/x-python",
   "name": "python",
   "nbconvert_exporter": "python",
   "pygments_lexer": "ipython3",
   "version": "3.11.7"
  }
 },
 "nbformat": 4,
 "nbformat_minor": 2
}
