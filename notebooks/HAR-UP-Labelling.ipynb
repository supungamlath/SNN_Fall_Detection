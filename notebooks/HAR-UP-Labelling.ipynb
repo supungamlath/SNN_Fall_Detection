{
  "cells": [
    {
      "cell_type": "code",
      "execution_count": 10,
      "metadata": {
        "colab": {
          "base_uri": "https://localhost:8080/"
        },
        "id": "o4d5khgSWfxs",
        "outputId": "2252ae50-5149-4314-fc5f-cd85a810a633"
      },
      "outputs": [
        {
          "output_type": "stream",
          "name": "stdout",
          "text": [
            "Drive already mounted at /content/drive; to attempt to forcibly remount, call drive.mount(\"/content/drive\", force_remount=True).\n"
          ]
        }
      ],
      "source": [
        "import pandas as pd\n",
        "from google.colab import drive\n",
        "\n",
        "drive.mount('/content/drive')"
      ]
    },
    {
      "cell_type": "code",
      "execution_count": null,
      "metadata": {
        "id": "cZ7ECOtWWfxu"
      },
      "outputs": [],
      "source": [
        "dataset_folder = \"/content/drive/MyDrive/Colab Notebooks/fall-detection/data/har-up-spiking-dataset-240/\"\n",
        "\n",
        "df = pd.read_csv(dataset_folder + \"CompleteDataSet.csv\")\n",
        "\n",
        "# Drop the first row (extra header)\n",
        "df.drop(index=0, inplace=True)\n",
        "\n",
        "# Select the useful columns\n",
        "df = df[[\"TimeStamps\", \"Subject\", \"Activity\", \"Trial\", \"Tag\"]].copy()\n",
        "\n",
        "# Convert the columns to the correct data types\n",
        "df[\"TimeStamps\"] = pd.to_datetime(df[\"TimeStamps\"])\n",
        "df[\"Subject\"] = df[\"Subject\"].astype(int)\n",
        "df[\"Activity\"] = df[\"Activity\"].astype(int)\n",
        "df[\"Trial\"] = df[\"Trial\"].astype(int)\n",
        "df[\"Tag\"] = df[\"Tag\"].astype(int)\n",
        "\n",
        "# Create Names column and remove the old columns\n",
        "df[\"Names\"] = df.apply(lambda row: f\"Subject{row['Subject']}Activity{row['Activity']}Trial{row['Trial']}\", axis=1)\n",
        "df.drop(columns=[\"Subject\", \"Activity\", \"Trial\"], inplace=True)\n",
        "\n",
        "df"
      ]
    },
    {
      "cell_type": "code",
      "execution_count": null,
      "metadata": {
        "id": "ws4rxJxUWfxv"
      },
      "outputs": [],
      "source": [
        "# Group by 'Names' and calculate the duration\n",
        "df['Duration'] = df.groupby('Names')['TimeStamps'].transform(lambda x: x - x.iloc[0])\n",
        "\n",
        "# Filter out rows where Duration is greater than 15 seconds\n",
        "df = df[df['Duration'] <= pd.Timedelta(seconds=15)]\n",
        "\n",
        "df"
      ]
    },
    {
      "cell_type": "code",
      "execution_count": null,
      "metadata": {
        "id": "ygxRrq8iWfxw"
      },
      "outputs": [],
      "source": [
        "# Group by 'Names' and aggregate 'Tag' values into a set\n",
        "df = df.groupby('Names').agg({'Tag': lambda x: set(x)})\n",
        "\n",
        "df\n"
      ]
    },
    {
      "cell_type": "code",
      "execution_count": null,
      "metadata": {
        "id": "M-0dwyYwWfxw"
      },
      "outputs": [],
      "source": [
        "# 1 Falling forward using hands 10\n",
        "# 2 Falling forward using knees 10\n",
        "# 3 Falling backwards 10\n",
        "# 4 Falling sideward 10\n",
        "# 5 Falling sitting in empty chair 10\n",
        "# 6 Walking 60\n",
        "# 7 Standing 60\n",
        "# 8 Sitting 60\n",
        "# 9 Picking up an object 10\n",
        "# 10 Jumping 30\n",
        "# 11 Laying 60\n",
        "\n",
        "# Create a new column 'Fall' and set it to True if the set contains any of the falling tags\n",
        "fall_tags = {1, 2, 3, 4, 5}\n",
        "df['Fall'] = df['Tag'].apply(lambda x: 1 if (len(x.intersection(fall_tags)) > 0) else 0)\n",
        "\n",
        "df"
      ]
    },
    {
      "cell_type": "code",
      "execution_count": null,
      "metadata": {
        "id": "vcqc1Jc2Wfxx"
      },
      "outputs": [],
      "source": [
        "import os\n",
        "\n",
        "names_falls_dict = df['Fall'].to_dict()\n",
        "\n",
        "folder_names = [\n",
        "    folder\n",
        "    for folder in os.listdir(dataset_folder)\n",
        "    if os.path.isdir(os.path.join(dataset_folder, folder))\n",
        "]\n",
        "labels = [names_falls_dict[folder[:-7]] for folder in folder_names]\n",
        "\n",
        "labels_df = pd.DataFrame({\"folder_name\": folder_names, \"label\": labels})\n",
        "labels_df.to_csv(f\"{dataset_folder}labels.csv\", index=False)\n",
        "labels_df"
      ]
    },
    {
      "cell_type": "code",
      "execution_count": null,
      "metadata": {
        "id": "QUESdcdZZq2o"
      },
      "outputs": [],
      "source": [
        "from matplotlib import pyplot as plt\n",
        "\n",
        "labels_df['label'].plot(kind='hist', bins=20, title='Labels')\n",
        "plt.gca().spines[['top', 'right',]].set_visible(False)"
      ]
    },
    {
      "cell_type": "markdown",
      "metadata": {
        "id": "Jeom0I69ana2"
      },
      "source": [
        "## Zip events folders"
      ]
    },
    {
      "cell_type": "code",
      "execution_count": null,
      "metadata": {
        "colab": {
          "background_save": true
        },
        "id": "ScA9-NRkaOMs"
      },
      "outputs": [],
      "source": [
        "import shutil\n",
        "\n",
        "dataset_folder = \"/content/drive/MyDrive/Colab Notebooks/fall-detection/data/har-up-spiking-dataset-240\"\n",
        "file_name = dataset_folder.split(\"/\")[-1]\n",
        "\n",
        "# Zip the folder\n",
        "zip_path = shutil.make_archive(file_name, 'zip', dataset_folder)\n",
        "\n",
        "shutil.move(zip_path, dataset_folder.replace(file_name, \"\"))"
      ]
    }
  ],
  "metadata": {
    "colab": {
      "provenance": []
    },
    "kernelspec": {
      "display_name": "snn",
      "language": "python",
      "name": "python3"
    },
    "language_info": {
      "codemirror_mode": {
        "name": "ipython",
        "version": 3
      },
      "file_extension": ".py",
      "mimetype": "text/x-python",
      "name": "python",
      "nbconvert_exporter": "python",
      "pygments_lexer": "ipython3",
      "version": "3.11.7"
    }
  },
  "nbformat": 4,
  "nbformat_minor": 0
}